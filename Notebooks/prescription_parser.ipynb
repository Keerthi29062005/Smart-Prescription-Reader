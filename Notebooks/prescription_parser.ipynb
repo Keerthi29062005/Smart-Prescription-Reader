{
 "cells": [
  {
   "cell_type": "code",
   "execution_count": 10,
   "id": "74403995-7f86-478a-80d9-6bddff668eff",
   "metadata": {},
   "outputs": [],
   "source": [
    "from pdf2image import convert_from_path\n",
    "import pytesseract\n",
    "\n",
    "POPPLER_PATH = r\"C:\\poppler-24.02.0\\Library\\bin\"\n",
    "TESSERACT_ENGINE_PATH = r\"C:\\Program Files\\Tesseract-OCR\\tesseract.exe\"\n",
    "pytesseract.pytesseract.tesseract_cmd = TESSERACT_ENGINE_PATH"
   ]
  },
  {
   "cell_type": "code",
   "execution_count": 70,
   "id": "a5478ff8-e9f2-4cab-9331-30cbb5cd857a",
   "metadata": {},
   "outputs": [],
   "source": [
    "DOC_PATH = r\"E:\\Projects\\medical-data-extraction\\docs\\prescription\\pre_1.pdf\""
   ]
  },
  {
   "cell_type": "code",
   "execution_count": 72,
   "id": "339efcbb-276d-4f79-bc89-218d059f5a1e",
   "metadata": {},
   "outputs": [],
   "source": [
    "pages_1 = convert_from_path(DOC_PATH, poppler_path=POPPLER_PATH)"
   ]
  },
  {
   "cell_type": "code",
   "execution_count": 73,
   "id": "a29b22d5-1149-447d-82ce-af0546556028",
   "metadata": {},
   "outputs": [
    {
     "data": {
      "text/plain": [
       "[<PIL.PpmImagePlugin.PpmImageFile image mode=RGB size=1700x2200>]"
      ]
     },
     "execution_count": 73,
     "metadata": {},
     "output_type": "execute_result"
    }
   ],
   "source": [
    "pages_1"
   ]
  },
  {
   "cell_type": "code",
   "execution_count": 5,
   "id": "0a74a280-f93a-44d0-9687-d65b8bec9025",
   "metadata": {},
   "outputs": [],
   "source": [
    "pages[0].show()"
   ]
  },
  {
   "cell_type": "code",
   "execution_count": 18,
   "id": "fddcd770-7a45-472a-92ca-b61a48b29d09",
   "metadata": {},
   "outputs": [
    {
     "name": "stdout",
     "output_type": "stream",
     "text": [
      "Dr John Smith, M.D\n",
      "2 Non-Important Street,\n",
      "New York, Phone (000)-111-2222\n",
      "\n",
      "Name: Maria Sharapova Date: 5/11/2022\n",
      "\n",
      "Address: 9 tennis court, new Russia, DC\n",
      "\n",
      "—moemenmannenneneneunmnnnnennieesisiyoinnitniahadaaanniihsnseneneneeeernnttnnneenrenen:\n",
      "\n",
      "Prednisone 20 mg\n",
      "Lialda 2.4 gram\n",
      "\n",
      "3 days,\n",
      "\n",
      "or 1 month\n",
      "\n"
     ]
    }
   ],
   "source": [
    "text = pytesseract.image_to_string(pages[0], lang=\"eng\")\n",
    "print(text)"
   ]
  },
  {
   "cell_type": "code",
   "execution_count": 78,
   "id": "9458627f-5237-4294-93c2-d1e293475863",
   "metadata": {},
   "outputs": [],
   "source": [
    "import numpy as np\n",
    "import cv2\n",
    "\n",
    "def preprocess_image(img):\n",
    "    gray = cv2.cvtColor(np.array(img), cv2.COLOR_BGR2GRAY)\n",
    "    resized = cv2.resize(gray, None, fx=1.5, fy=1.5, interpolation=cv2.INTER_LINEAR)\n",
    "    processed_image = cv2.adaptiveThreshold(\n",
    "        resized,\n",
    "        255,\n",
    "        cv2.ADAPTIVE_THRESH_GAUSSIAN_C,\n",
    "        cv2.THRESH_BINARY,\n",
    "        63, # block size (after trial and error)\n",
    "        12  # constant (after trial and error)\n",
    "    )\n",
    "    return processed_image"
   ]
  },
  {
   "cell_type": "code",
   "execution_count": 79,
   "id": "e27d7bb3-3c96-414e-a393-56eae12a3bde",
   "metadata": {},
   "outputs": [],
   "source": [
    "img = preprocess_image(pages[0])\n",
    "# Image.fromarray(img).show()"
   ]
  },
  {
   "cell_type": "code",
   "execution_count": 80,
   "id": "c2f0d6b7-2c77-41e0-aabd-f11a809fa6a4",
   "metadata": {},
   "outputs": [
    {
     "name": "stdout",
     "output_type": "stream",
     "text": [
      "Dr John Smith, M.D\n",
      "2 Non-Important Street,\n",
      "New York, Phone (000)-111-2222\n",
      "\n",
      "Name: Marta Sharapova Date: 5/11/2022\n",
      "\n",
      "Address: 9 tennis court, new Russia, DC\n",
      "\n",
      "Prednisone 20 md\n",
      "Lialda 2.4 gram\n",
      "\n",
      "Directions:\n",
      "\n",
      "Prednisone, Taper 5 mg every 3 days,\n",
      "Finish in 2.5 weeks 7\n",
      "Lialda - take 2 pill everyday for 1 month\n",
      "\n",
      "Refill: _2_times\n",
      "\n"
     ]
    }
   ],
   "source": [
    "text = pytesseract.image_to_string(img, lang=\"eng\")\n",
    "print(text)"
   ]
  },
  {
   "cell_type": "code",
   "execution_count": 81,
   "id": "3dedf513-244a-4bbc-a76c-f4a953ea7c30",
   "metadata": {},
   "outputs": [
    {
     "name": "stdout",
     "output_type": "stream",
     "text": [
      "Dr John Smith, M.D\n",
      "\n",
      "2 Non-Important street,\n",
      "New York, Phone (900)-12123- ~2222\n",
      "\n",
      "Name:  Virat Kohli Date: 2/05/2022\n",
      "\n",
      "Address: 2 cricket blvd, New Delhi\n",
      "\n",
      "| Omeprazole 40 mg\n",
      "\n",
      "Directions: Use two tablets daily for three months\n",
      "\n",
      "Refill: 3 times\n",
      "\n"
     ]
    }
   ],
   "source": [
    "DOC_PATH_1 = r\"E:\\Projects\\medical-data-extraction\\docs\\prescription\\pre_2.pdf\"\n",
    "pages_2 = convert_from_path(DOC_PATH_1, poppler_path=POPPLER_PATH)\n",
    "img = preprocess_image(pages_2[0])\n",
    "text = pytesseract.image_to_string(img, lang=\"eng\")\n",
    "print(text)"
   ]
  },
  {
   "cell_type": "code",
   "execution_count": null,
   "id": "2b2e0d68-753e-4287-8205-10ccb5f0cc19",
   "metadata": {},
   "outputs": [],
   "source": []
  }
 ],
 "metadata": {
  "kernelspec": {
   "display_name": "Python 3 (ipykernel)",
   "language": "python",
   "name": "python3"
  },
  "language_info": {
   "codemirror_mode": {
    "name": "ipython",
    "version": 3
   },
   "file_extension": ".py",
   "mimetype": "text/x-python",
   "name": "python",
   "nbconvert_exporter": "python",
   "pygments_lexer": "ipython3",
   "version": "3.11.5"
  }
 },
 "nbformat": 4,
 "nbformat_minor": 5
}
